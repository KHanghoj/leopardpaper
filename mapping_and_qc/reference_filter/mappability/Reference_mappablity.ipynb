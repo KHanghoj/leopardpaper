{
 "cells": [
  {
   "cell_type": "code",
   "execution_count": 1,
   "metadata": {},
   "outputs": [
    {
     "data": {
      "text/html": [
       "<style>.container { width:90% !important; }</style>"
      ],
      "text/plain": [
       "<IPython.core.display.HTML object>"
      ]
     },
     "metadata": {},
     "output_type": "display_data"
    }
   ],
   "source": [
    "import numpy as np\n",
    "import pandas as pd\n",
    "import itertools\n",
    "import scipy.spatial.distance\n",
    "import matplotlib.pyplot as plt\n",
    "import seaborn as sns\n",
    "import collections\n",
    "import glob\n",
    "\n",
    "import os\n",
    "%matplotlib inline\n",
    "sns.set_style('white')\n",
    "from pylab import rcParams\n",
    "from IPython.core.display import display, HTML\n",
    "display(HTML(\"<style>.container { width:90% !important; }</style>\"))"
   ]
  },
  {
   "cell_type": "markdown",
   "metadata": {},
   "source": [
    "GENMAP downloaded from:\n",
    "https://github.com/cpockrandt/genmap/releases/download/genmap-v1.2.0/genmap-1.2.0-Linux-x86_64-sse4.zip"
   ]
  },
  {
   "cell_type": "code",
   "execution_count": 2,
   "metadata": {},
   "outputs": [],
   "source": [
    "REF = \"/home/leopard/users/genis/ref/GCF_001857705.1_PanPar1.0_genomic.s.fna\""
   ]
  },
  {
   "cell_type": "code",
   "execution_count": 3,
   "metadata": {},
   "outputs": [
    {
     "name": "stdout",
     "output_type": "stream",
     "text": [
      ">NW_017619845.1\r\n",
      "tttaatttaatttaatttaatttaatttaatttaatttaatgcgTGGATTTGACTGGGTCAAGGGATGCACAGATAGCTG\r\n",
      "GTTAAAcatttctgagtgtgtctgtgagaATGTTTCccaagagattagcatttgaatcactagactaagaaaaaaatatc\r\n",
      "actttTACCAATGTAAGTGGTCATCACCCAGTCCATTCAAGGTCTGAATagaatgaaggaggaagaagggtgaattttct\r\n",
      "cttttgcttgagctgggacatccacCTTCTGCTATCCTTGAACATTggtgctcctggttctcaggcctttgaacTCAGAT\r\n",
      "TGGGGCCATCAGCTCCCAAGgacaaaaaccaaaatacatatttcttacaATGCCATTAGCCACTTCAGTGGCTAGAACAA\r\n",
      "TGCTATGGAAACTGTCACCTGCCATCAGTGCCTCTTGGCCTCTGGGTCATGATGCCGATTTCCATGTCAATGCAGGTCCT\r\n",
      "CCAAGAAGCCAACTCCAAGATAAGATGAATGGAGCAAACATTTTATTATCCCtgtgagagagaatgggaaggaaaCTGGG\r\n",
      "AAAGGTAGGGAACAAATTAGCACTCATGCAAATTTGACCttgagtgaaggagagagggaagaaagactGCTGGAGGTGTC\r\n",
      "CCAGACCTCTGTGTGATATAAGGAAGGTTCTGCAAGTCCAAAGGAGAGCCCTCAAGCCAAAGTTGGCCATCAGAAGAGGT\r\n"
     ]
    }
   ],
   "source": [
    "!head /home/leopard/users/genis/ref/GCF_001857705.1_PanPar1.0_genomic.s.fna"
   ]
  },
  {
   "cell_type": "markdown",
   "metadata": {},
   "source": [
    "# Make the index"
   ]
  },
  {
   "cell_type": "code",
   "execution_count": 3,
   "metadata": {},
   "outputs": [],
   "source": [
    "!mkdir  /home/ryan/leopard/GEM"
   ]
  },
  {
   "cell_type": "code",
   "execution_count": 4,
   "metadata": {},
   "outputs": [
    {
     "name": "stdout",
     "output_type": "stream",
     "text": [
      "nohup nice -n10 /home/ryan/programs/genmap/genmap index -F /home/leopard/users/genis/ref/GCF_001857705.1_PanPar1.0_genomic.s.fna -A skew -I /home/ryan/leopard/GEM/index &\r\n"
     ]
    }
   ],
   "source": [
    "!echo nohup nice -n10 /home/ryan/programs/genmap/genmap index -F {REF} -A skew -I /home/ryan/leopard/GEM/index '&'"
   ]
  },
  {
   "cell_type": "code",
   "execution_count": null,
   "metadata": {},
   "outputs": [],
   "source": [
    "# Compute mappabliity"
   ]
  },
  {
   "cell_type": "code",
   "execution_count": 10,
   "metadata": {},
   "outputs": [
    {
     "name": "stdout",
     "output_type": "stream",
     "text": [
      "nohup nice -n10 /home/ryan/programs/genmap/genmap map -K 150 -E 2 -I /home/ryan/leopard/GEM/index -O /home/ryan/leopard/GEM/mappability_K150_E2 -t -w -bg &\r\n"
     ]
    }
   ],
   "source": [
    "!echo nohup nice -n10 /home/ryan/programs/genmap/genmap map -K 150 -E 2 \\\n",
    "-I /home/ryan/leopard/GEM/index -O /home/ryan/leopard/GEM/mappability_K150_E2 -t -w -bg '&'"
   ]
  },
  {
   "cell_type": "code",
   "execution_count": 9,
   "metadata": {},
   "outputs": [
    {
     "name": "stdout",
     "output_type": "stream",
     "text": [
      "/home/ryan/leopard/GEM/mappability_K150_E2.bedgraph\r\n",
      "/home/ryan/leopard/GEM/mappability_K150_E2.chrom.sizes\r\n",
      "/home/ryan/leopard/GEM/mappability_K150_E2.map1_regions.bed\r\n",
      "/home/ryan/leopard/GEM/mappability_K150_E2.map1_regions.bedgraph\r\n",
      "/home/ryan/leopard/GEM/mappability_K150_E2.summary.txt\r\n",
      "/home/ryan/leopard/GEM/mappability_K150_E2.txt\r\n",
      "/home/ryan/leopard/GEM/mappability_K150_E2.wig\r\n"
     ]
    }
   ],
   "source": [
    "!ls /home/ryan/leopard/GEM/mappability_K150_E2.*"
   ]
  },
  {
   "cell_type": "code",
   "execution_count": 10,
   "metadata": {},
   "outputs": [
    {
     "name": "stdout",
     "output_type": "stream",
     "text": [
      "tar: Removing leading `/' from member names\n",
      "/home/ryan/leopard/GEM/mappability_K150_E2.bedgraph\n",
      "/home/ryan/leopard/GEM/mappability_K150_E2.chrom.sizes\n",
      "/home/ryan/leopard/GEM/mappability_K150_E2.map1_regions.bed\n",
      "/home/ryan/leopard/GEM/mappability_K150_E2.map1_regions.bedgraph\n",
      "/home/ryan/leopard/GEM/mappability_K150_E2.summary.txt\n",
      "/home/ryan/leopard/GEM/mappability_K150_E2.txt\n",
      "/home/ryan/leopard/GEM/mappability_K150_E2.wig\n"
     ]
    }
   ],
   "source": [
    "!tar -cvzf /home/ryan/leopard/GEM/OLD.mappability_K150_E2.tar.gz /home/ryan/leopard/GEM/mappability_K150_E2.*"
   ]
  },
  {
   "cell_type": "markdown",
   "metadata": {},
   "source": [
    "## after new read merging procedure, we want to recompute mappability with a readsize of 100"
   ]
  },
  {
   "cell_type": "code",
   "execution_count": 5,
   "metadata": {},
   "outputs": [
    {
     "name": "stdout",
     "output_type": "stream",
     "text": [
      "nohup nice -n10 /home/ryan/programs/genmap/genmap map -K 100 -E 2 -I /home/ryan/leopard/GEM/index -O /home/ryan/leopard/GEM/mappability_K100_E2 -t -w -bg &\r\n"
     ]
    }
   ],
   "source": [
    "!echo nohup nice -n10 /home/ryan/programs/genmap/genmap map -K 100 -E 2 \\\n",
    "-I /home/ryan/leopard/GEM/index -O /home/ryan/leopard/GEM/mappability_K100_E2 -t -w -bg '&'"
   ]
  },
  {
   "cell_type": "code",
   "execution_count": null,
   "metadata": {},
   "outputs": [],
   "source": [
    "# load bedgraph"
   ]
  },
  {
   "cell_type": "code",
   "execution_count": 4,
   "metadata": {},
   "outputs": [
    {
     "data": {
      "text/html": [
       "<div>\n",
       "<style scoped>\n",
       "    .dataframe tbody tr th:only-of-type {\n",
       "        vertical-align: middle;\n",
       "    }\n",
       "\n",
       "    .dataframe tbody tr th {\n",
       "        vertical-align: top;\n",
       "    }\n",
       "\n",
       "    .dataframe thead th {\n",
       "        text-align: right;\n",
       "    }\n",
       "</style>\n",
       "<table border=\"1\" class=\"dataframe\">\n",
       "  <thead>\n",
       "    <tr style=\"text-align: right;\">\n",
       "      <th></th>\n",
       "      <th>contig</th>\n",
       "      <th>start</th>\n",
       "      <th>stop</th>\n",
       "      <th>mappability</th>\n",
       "      <th>length</th>\n",
       "    </tr>\n",
       "  </thead>\n",
       "  <tbody>\n",
       "    <tr>\n",
       "      <th>0</th>\n",
       "      <td>NW_017619845.1</td>\n",
       "      <td>0</td>\n",
       "      <td>16030</td>\n",
       "      <td>1.000000</td>\n",
       "      <td>16030</td>\n",
       "    </tr>\n",
       "    <tr>\n",
       "      <th>1</th>\n",
       "      <td>NW_017619845.1</td>\n",
       "      <td>16030</td>\n",
       "      <td>16031</td>\n",
       "      <td>0.500000</td>\n",
       "      <td>1</td>\n",
       "    </tr>\n",
       "    <tr>\n",
       "      <th>2</th>\n",
       "      <td>NW_017619845.1</td>\n",
       "      <td>16031</td>\n",
       "      <td>16033</td>\n",
       "      <td>0.200000</td>\n",
       "      <td>2</td>\n",
       "    </tr>\n",
       "    <tr>\n",
       "      <th>3</th>\n",
       "      <td>NW_017619845.1</td>\n",
       "      <td>16033</td>\n",
       "      <td>16034</td>\n",
       "      <td>0.166667</td>\n",
       "      <td>1</td>\n",
       "    </tr>\n",
       "    <tr>\n",
       "      <th>4</th>\n",
       "      <td>NW_017619845.1</td>\n",
       "      <td>16034</td>\n",
       "      <td>16035</td>\n",
       "      <td>0.111111</td>\n",
       "      <td>1</td>\n",
       "    </tr>\n",
       "    <tr>\n",
       "      <th>...</th>\n",
       "      <td>...</td>\n",
       "      <td>...</td>\n",
       "      <td>...</td>\n",
       "      <td>...</td>\n",
       "      <td>...</td>\n",
       "    </tr>\n",
       "    <tr>\n",
       "      <th>29583775</th>\n",
       "      <td>NC_010641.1</td>\n",
       "      <td>16322</td>\n",
       "      <td>16758</td>\n",
       "      <td>1.000000</td>\n",
       "      <td>436</td>\n",
       "    </tr>\n",
       "    <tr>\n",
       "      <th>29583776</th>\n",
       "      <td>NC_010641.1</td>\n",
       "      <td>16758</td>\n",
       "      <td>16759</td>\n",
       "      <td>0.333333</td>\n",
       "      <td>1</td>\n",
       "    </tr>\n",
       "    <tr>\n",
       "      <th>29583777</th>\n",
       "      <td>NC_010641.1</td>\n",
       "      <td>16759</td>\n",
       "      <td>16814</td>\n",
       "      <td>1.000000</td>\n",
       "      <td>55</td>\n",
       "    </tr>\n",
       "    <tr>\n",
       "      <th>29583778</th>\n",
       "      <td>NC_010641.1</td>\n",
       "      <td>16814</td>\n",
       "      <td>16819</td>\n",
       "      <td>0.250000</td>\n",
       "      <td>5</td>\n",
       "    </tr>\n",
       "    <tr>\n",
       "      <th>29583779</th>\n",
       "      <td>NC_010641.1</td>\n",
       "      <td>16819</td>\n",
       "      <td>16865</td>\n",
       "      <td>1.000000</td>\n",
       "      <td>46</td>\n",
       "    </tr>\n",
       "  </tbody>\n",
       "</table>\n",
       "<p>29583780 rows × 5 columns</p>\n",
       "</div>"
      ],
      "text/plain": [
       "                  contig  start   stop  mappability  length\n",
       "0         NW_017619845.1      0  16030     1.000000   16030\n",
       "1         NW_017619845.1  16030  16031     0.500000       1\n",
       "2         NW_017619845.1  16031  16033     0.200000       2\n",
       "3         NW_017619845.1  16033  16034     0.166667       1\n",
       "4         NW_017619845.1  16034  16035     0.111111       1\n",
       "...                  ...    ...    ...          ...     ...\n",
       "29583775     NC_010641.1  16322  16758     1.000000     436\n",
       "29583776     NC_010641.1  16758  16759     0.333333       1\n",
       "29583777     NC_010641.1  16759  16814     1.000000      55\n",
       "29583778     NC_010641.1  16814  16819     0.250000       5\n",
       "29583779     NC_010641.1  16819  16865     1.000000      46\n",
       "\n",
       "[29583780 rows x 5 columns]"
      ]
     },
     "execution_count": 4,
     "metadata": {},
     "output_type": "execute_result"
    }
   ],
   "source": [
    "bg = pd.read_csv('/home/ryan/leopard/GEM/mappability_K100_E2.bedgraph', \n",
    "                 sep = '\\t', header = None)\n",
    "bg.columns = ['contig', 'start', 'stop', 'mappability']\n",
    "bg['length'] = bg['stop'] - bg['start']\n",
    "bg"
   ]
  },
  {
   "cell_type": "code",
   "execution_count": 5,
   "metadata": {},
   "outputs": [
    {
     "data": {
      "text/plain": [
       "2462945862"
      ]
     },
     "execution_count": 5,
     "metadata": {},
     "output_type": "execute_result"
    }
   ],
   "source": [
    "bg['length'].sum()"
   ]
  },
  {
   "cell_type": "code",
   "execution_count": null,
   "metadata": {},
   "outputs": [],
   "source": []
  },
  {
   "cell_type": "code",
   "execution_count": 12,
   "metadata": {},
   "outputs": [
    {
     "data": {
      "text/plain": [
       "<matplotlib.axes._subplots.AxesSubplot at 0x7eff09420d68>"
      ]
     },
     "execution_count": 12,
     "metadata": {},
     "output_type": "execute_result"
    },
    {
     "data": {
      "image/png": "[encoded data removed]",
      "text/plain": [
       "<Figure size 432x288 with 1 Axes>"
      ]
     },
     "metadata": {},
     "output_type": "display_data"
    }
   ],
   "source": [
    "contig_lengths = bg.groupby('contig')['stop'].max()\n",
    "sns.distplot(contig_lengths)"
   ]
  },
  {
   "cell_type": "markdown",
   "metadata": {},
   "source": [
    "# Histogram of contig lengths for contigs atleast 10kb\n",
    "## notice y scale y-axis"
   ]
  },
  {
   "cell_type": "code",
   "execution_count": 13,
   "metadata": {},
   "outputs": [],
   "source": [
    "# Histogram of contig lengths for contigs atleast 100kb\n",
    "## notice y scale y-axis"
   ]
  },
  {
   "cell_type": "code",
   "execution_count": 15,
   "metadata": {},
   "outputs": [
    {
     "data": {
      "text/plain": [
       "[]"
      ]
     },
     "execution_count": 15,
     "metadata": {},
     "output_type": "execute_result"
    },
    {
     "data": {
      "image/png": "[encoded data removed]",
      "text/plain": [
       "<Figure size 432x288 with 1 Axes>"
      ]
     },
     "metadata": {},
     "output_type": "display_data"
    }
   ],
   "source": [
    "sns.distplot(contig_lengths.loc[contig_lengths>10000], kde = False)\n",
    "plt.semilogy()"
   ]
  },
  {
   "cell_type": "code",
   "execution_count": 16,
   "metadata": {},
   "outputs": [
    {
     "data": {
      "text/plain": [
       "[]"
      ]
     },
     "execution_count": 16,
     "metadata": {},
     "output_type": "execute_result"
    },
    {
     "data": {
      "image/png": "[encoded data removed]",
      "text/plain": [
       "<Figure size 432x288 with 1 Axes>"
      ]
     },
     "metadata": {},
     "output_type": "display_data"
    }
   ],
   "source": [
    "sns.distplot(contig_lengths.loc[contig_lengths>100000], kde = False)\n",
    "plt.semilogy()"
   ]
  },
  {
   "cell_type": "code",
   "execution_count": null,
   "metadata": {},
   "outputs": [],
   "source": []
  },
  {
   "cell_type": "code",
   "execution_count": 13,
   "metadata": {},
   "outputs": [],
   "source": [
    "wtavg_func = lambda x: np.average(x['mappability'], weights = x['length'], axis = 0)\n",
    "wtavg = bg.groupby('contig').apply(wtavg_func)\n"
   ]
  },
  {
   "cell_type": "code",
   "execution_count": 14,
   "metadata": {},
   "outputs": [],
   "source": [
    "map_vs_len = pd.concat([contig_lengths, wtavg], axis = 1)\n",
    "map_vs_len.columns = ['length', 'mappability']"
   ]
  },
  {
   "cell_type": "markdown",
   "metadata": {},
   "source": [
    "# Plot of mean mappability vs contig length"
   ]
  },
  {
   "cell_type": "code",
   "execution_count": 19,
   "metadata": {},
   "outputs": [
    {
     "data": {
      "image/png": "[encoded data removed]",
      "text/plain": [
       "<Figure size 360x360 with 1 Axes>"
      ]
     },
     "metadata": {},
     "output_type": "display_data"
    }
   ],
   "source": [
    "with sns.plotting_context('notebook', font_scale = 1.3):\n",
    "    sns.lmplot(data = map_vs_len, x ='length', y = 'mappability', fit_reg = False)\n",
    "    plt.xlabel('contig length')\n",
    "    plt.ylabel('mean mappablity')\n"
   ]
  },
  {
   "cell_type": "markdown",
   "metadata": {},
   "source": [
    "# Plot of mean mappability vs contig length for contigs atleast 10kb"
   ]
  },
  {
   "cell_type": "code",
   "execution_count": 20,
   "metadata": {},
   "outputs": [
    {
     "data": {
      "image/png": "[encoded data removed]",
      "text/plain": [
       "<Figure size 360x360 with 1 Axes>"
      ]
     },
     "metadata": {},
     "output_type": "display_data"
    }
   ],
   "source": [
    "with sns.plotting_context('notebook', font_scale = 1.3):\n",
    "    sns.lmplot(data = map_vs_len.query('length > 10000'), x ='length', y = 'mappability', fit_reg = False)\n",
    "    plt.xlabel('contig length')\n",
    "    plt.ylabel('mean mappablity')"
   ]
  },
  {
   "cell_type": "markdown",
   "metadata": {},
   "source": [
    "# Plot of mean mappability vs contig length for contigs atleast 100kb"
   ]
  },
  {
   "cell_type": "code",
   "execution_count": 21,
   "metadata": {},
   "outputs": [
    {
     "data": {
      "image/png": "[encoded data removed]",
      "text/plain": [
       "<Figure size 360x360 with 1 Axes>"
      ]
     },
     "metadata": {},
     "output_type": "display_data"
    }
   ],
   "source": [
    "with sns.plotting_context('notebook', font_scale = 1.3):\n",
    "    sns.lmplot(data = map_vs_len.query('length > 100000'), x ='length', y = 'mappability', fit_reg = False)\n",
    "    plt.xlabel('contig length')\n",
    "    plt.ylabel('mean mappablity')"
   ]
  },
  {
   "cell_type": "markdown",
   "metadata": {},
   "source": [
    "# fraction mappability of 1"
   ]
  },
  {
   "cell_type": "code",
   "execution_count": 22,
   "metadata": {},
   "outputs": [],
   "source": [
    "len_map1 =bg.query('mappability == 1').groupby('contig')['length'].sum()\n",
    "frac_map1 = len_map1.div(contig_lengths)\n",
    "frac_map1 = frac_map1.fillna(0)\n",
    "frac_map1_vs_len = pd.concat([contig_lengths, frac_map1], axis = 1)\n",
    "frac_map1_vs_len.columns = ['length', 'frac_map1']"
   ]
  },
  {
   "cell_type": "markdown",
   "metadata": {},
   "source": [
    "# Plot of fraction of contig above mappablity 1 for contigs atleast 100kb"
   ]
  },
  {
   "cell_type": "code",
   "execution_count": 26,
   "metadata": {},
   "outputs": [
    {
     "data": {
      "image/png": "[encoded data removed]",
      "text/plain": [
       "<Figure size 360x360 with 1 Axes>"
      ]
     },
     "metadata": {},
     "output_type": "display_data"
    }
   ],
   "source": [
    "with sns.plotting_context('notebook', font_scale = 1.3):\n",
    "    sns.lmplot(data = frac_map1_vs_len.query('length > 100000'), x ='length', y = 'frac_map1', fit_reg = False)\n",
    "    plt.xlabel('contig length')\n",
    "    plt.ylabel('frac_map1')"
   ]
  },
  {
   "cell_type": "code",
   "execution_count": 27,
   "metadata": {},
   "outputs": [],
   "source": [
    "results = pd.concat([frac_map1_vs_len, map_vs_len.drop('length', axis = 1)], axis = 1 )\n",
    "results = results.reset_index()\n",
    "results.columns = ['contig', 'length', 'frac_map1', 'mean_mappability']\n",
    "results = results.sort_values('length', ascending = False)\n",
    "results.to_csv('/home/ryan/leopard/GEM/mappability_K100_E2.summary.txt', \n",
    "               index = None, sep ='\\t')"
   ]
  },
  {
   "cell_type": "code",
   "execution_count": 28,
   "metadata": {},
   "outputs": [
    {
     "name": "stdout",
     "output_type": "stream",
     "text": [
      "contig\tlength\tfrac_map1\tmean_mappability\r\n",
      "NW_017619845.1\t84050967\t0.9010340237965376\t0.9602055059542027\r\n",
      "NW_017619846.1\t60041034\t0.9239992768945319\t0.9666545584111373\r\n",
      "NW_017619847.1\t56672426\t0.9160714948041928\t0.9630583866243034\r\n",
      "NW_017619848.1\t46648447\t0.9191715428382857\t0.9634658363069877\r\n",
      "NW_017619849.1\t45903527\t0.8808122521827135\t0.9538238185039395\r\n",
      "NW_017619850.1\t45016669\t0.9144602635970245\t0.9626113349885784\r\n",
      "NW_017619851.1\t42635139\t0.9104343250763179\t0.9594679842263568\r\n",
      "NW_017619852.1\t41820504\t0.8937019506029865\t0.9565472075260816\r\n",
      "NW_017619853.1\t38035223\t0.9185759473527998\t0.9628147819508395\r\n"
     ]
    }
   ],
   "source": [
    "!head /home/ryan/leopard/GEM/mappability_K100_E2.summary.txt"
   ]
  },
  {
   "cell_type": "code",
   "execution_count": 6,
   "metadata": {},
   "outputs": [
    {
     "name": "stdout",
     "output_type": "stream",
     "text": [
      "50378 /home/ryan/leopard/GEM/mappability_K100_E2.summary.txt\r\n"
     ]
    }
   ],
   "source": [
    "!wc -l /home/ryan/leopard/GEM/mappability_K100_E2.summary.txt"
   ]
  },
  {
   "cell_type": "code",
   "execution_count": 9,
   "metadata": {},
   "outputs": [
    {
     "data": {
      "text/html": [
       "<div>\n",
       "<style scoped>\n",
       "    .dataframe tbody tr th:only-of-type {\n",
       "        vertical-align: middle;\n",
       "    }\n",
       "\n",
       "    .dataframe tbody tr th {\n",
       "        vertical-align: top;\n",
       "    }\n",
       "\n",
       "    .dataframe thead th {\n",
       "        text-align: right;\n",
       "    }\n",
       "</style>\n",
       "<table border=\"1\" class=\"dataframe\">\n",
       "  <thead>\n",
       "    <tr style=\"text-align: right;\">\n",
       "      <th></th>\n",
       "      <th>contig</th>\n",
       "      <th>length</th>\n",
       "      <th>frac_map1</th>\n",
       "      <th>mean_mappability</th>\n",
       "    </tr>\n",
       "  </thead>\n",
       "  <tbody>\n",
       "    <tr>\n",
       "      <th>0</th>\n",
       "      <td>NW_017619845.1</td>\n",
       "      <td>84050967</td>\n",
       "      <td>0.901034</td>\n",
       "      <td>0.960206</td>\n",
       "    </tr>\n",
       "    <tr>\n",
       "      <th>1</th>\n",
       "      <td>NW_017619846.1</td>\n",
       "      <td>60041034</td>\n",
       "      <td>0.923999</td>\n",
       "      <td>0.966655</td>\n",
       "    </tr>\n",
       "    <tr>\n",
       "      <th>2</th>\n",
       "      <td>NW_017619847.1</td>\n",
       "      <td>56672426</td>\n",
       "      <td>0.916071</td>\n",
       "      <td>0.963058</td>\n",
       "    </tr>\n",
       "    <tr>\n",
       "      <th>3</th>\n",
       "      <td>NW_017619848.1</td>\n",
       "      <td>46648447</td>\n",
       "      <td>0.919172</td>\n",
       "      <td>0.963466</td>\n",
       "    </tr>\n",
       "    <tr>\n",
       "      <th>4</th>\n",
       "      <td>NW_017619849.1</td>\n",
       "      <td>45903527</td>\n",
       "      <td>0.880812</td>\n",
       "      <td>0.953824</td>\n",
       "    </tr>\n",
       "    <tr>\n",
       "      <th>...</th>\n",
       "      <td>...</td>\n",
       "      <td>...</td>\n",
       "      <td>...</td>\n",
       "      <td>...</td>\n",
       "    </tr>\n",
       "    <tr>\n",
       "      <th>217</th>\n",
       "      <td>NW_017620062.1</td>\n",
       "      <td>1048471</td>\n",
       "      <td>0.824899</td>\n",
       "      <td>0.910064</td>\n",
       "    </tr>\n",
       "    <tr>\n",
       "      <th>218</th>\n",
       "      <td>NW_017620063.1</td>\n",
       "      <td>1039827</td>\n",
       "      <td>0.648665</td>\n",
       "      <td>0.879082</td>\n",
       "    </tr>\n",
       "    <tr>\n",
       "      <th>219</th>\n",
       "      <td>NW_017620064.1</td>\n",
       "      <td>1026445</td>\n",
       "      <td>0.922645</td>\n",
       "      <td>0.962875</td>\n",
       "    </tr>\n",
       "    <tr>\n",
       "      <th>220</th>\n",
       "      <td>NW_017620065.1</td>\n",
       "      <td>1024999</td>\n",
       "      <td>0.891492</td>\n",
       "      <td>0.951297</td>\n",
       "    </tr>\n",
       "    <tr>\n",
       "      <th>221</th>\n",
       "      <td>NW_017620066.1</td>\n",
       "      <td>1012239</td>\n",
       "      <td>0.922931</td>\n",
       "      <td>0.969674</td>\n",
       "    </tr>\n",
       "  </tbody>\n",
       "</table>\n",
       "<p>222 rows × 4 columns</p>\n",
       "</div>"
      ],
      "text/plain": [
       "             contig    length  frac_map1  mean_mappability\n",
       "0    NW_017619845.1  84050967   0.901034          0.960206\n",
       "1    NW_017619846.1  60041034   0.923999          0.966655\n",
       "2    NW_017619847.1  56672426   0.916071          0.963058\n",
       "3    NW_017619848.1  46648447   0.919172          0.963466\n",
       "4    NW_017619849.1  45903527   0.880812          0.953824\n",
       "..              ...       ...        ...               ...\n",
       "217  NW_017620062.1   1048471   0.824899          0.910064\n",
       "218  NW_017620063.1   1039827   0.648665          0.879082\n",
       "219  NW_017620064.1   1026445   0.922645          0.962875\n",
       "220  NW_017620065.1   1024999   0.891492          0.951297\n",
       "221  NW_017620066.1   1012239   0.922931          0.969674\n",
       "\n",
       "[222 rows x 4 columns]"
      ]
     },
     "execution_count": 9,
     "metadata": {},
     "output_type": "execute_result"
    }
   ],
   "source": [
    "summary = pd.read_csv('/home/ryan/leopard/GEM/mappability_K100_E2.summary.txt', sep = '\\t')\n",
    "summary.query('length>=1e6')"
   ]
  },
  {
   "cell_type": "code",
   "execution_count": 10,
   "metadata": {},
   "outputs": [
    {
     "data": {
      "text/plain": [
       "2491426174"
      ]
     },
     "execution_count": 10,
     "metadata": {},
     "output_type": "execute_result"
    }
   ],
   "source": [
    "summary.query('length>=1e6')['length'].sum()"
   ]
  },
  {
   "cell_type": "markdown",
   "metadata": {},
   "source": [
    "## Write a bedgraph file with the regions of mappability=1 and in scaffolds of length >=1mb\n"
   ]
  },
  {
   "cell_type": "code",
   "execution_count": 15,
   "metadata": {},
   "outputs": [],
   "source": [
    "scaffolds_keep = contig_lengths.loc[contig_lengths>=1e6].index.tolist()"
   ]
  },
  {
   "cell_type": "code",
   "execution_count": 16,
   "metadata": {},
   "outputs": [
    {
     "data": {
      "text/plain": [
       "contig\n",
       "NW_017620066.1     1012239\n",
       "NW_017620065.1     1024999\n",
       "NW_017620064.1     1026445\n",
       "NW_017620063.1     1039827\n",
       "NW_017620062.1     1048471\n",
       "                    ...   \n",
       "NW_017619849.1    45903527\n",
       "NW_017619848.1    46648447\n",
       "NW_017619847.1    56672426\n",
       "NW_017619846.1    60041034\n",
       "NW_017619845.1    84050967\n",
       "Name: stop, Length: 222, dtype: int64"
      ]
     },
     "execution_count": 16,
     "metadata": {},
     "output_type": "execute_result"
    }
   ],
   "source": [
    "contig_lengths.loc[contig_lengths>=1e6].sort_values()"
   ]
  },
  {
   "cell_type": "code",
   "execution_count": 17,
   "metadata": {},
   "outputs": [
    {
     "data": {
      "text/plain": [
       "981899"
      ]
     },
     "execution_count": 17,
     "metadata": {},
     "output_type": "execute_result"
    }
   ],
   "source": [
    "bg.query('contig == \"NW_017620066.1\"')['length'].sum()"
   ]
  },
  {
   "cell_type": "code",
   "execution_count": 18,
   "metadata": {},
   "outputs": [
    {
     "data": {
      "text/html": [
       "<div>\n",
       "<style scoped>\n",
       "    .dataframe tbody tr th:only-of-type {\n",
       "        vertical-align: middle;\n",
       "    }\n",
       "\n",
       "    .dataframe tbody tr th {\n",
       "        vertical-align: top;\n",
       "    }\n",
       "\n",
       "    .dataframe thead th {\n",
       "        text-align: right;\n",
       "    }\n",
       "</style>\n",
       "<table border=\"1\" class=\"dataframe\">\n",
       "  <thead>\n",
       "    <tr style=\"text-align: right;\">\n",
       "      <th></th>\n",
       "      <th>contig</th>\n",
       "      <th>start</th>\n",
       "      <th>stop</th>\n",
       "      <th>mappability</th>\n",
       "      <th>length</th>\n",
       "    </tr>\n",
       "  </thead>\n",
       "  <tbody>\n",
       "    <tr>\n",
       "      <th>27828374</th>\n",
       "      <td>NW_017620066.1</td>\n",
       "      <td>0</td>\n",
       "      <td>1636</td>\n",
       "      <td>1.000000</td>\n",
       "      <td>1636</td>\n",
       "    </tr>\n",
       "    <tr>\n",
       "      <th>27828375</th>\n",
       "      <td>NW_017620066.1</td>\n",
       "      <td>1636</td>\n",
       "      <td>1639</td>\n",
       "      <td>0.500000</td>\n",
       "      <td>3</td>\n",
       "    </tr>\n",
       "    <tr>\n",
       "      <th>27828376</th>\n",
       "      <td>NW_017620066.1</td>\n",
       "      <td>1639</td>\n",
       "      <td>1640</td>\n",
       "      <td>0.333333</td>\n",
       "      <td>1</td>\n",
       "    </tr>\n",
       "    <tr>\n",
       "      <th>27828377</th>\n",
       "      <td>NW_017620066.1</td>\n",
       "      <td>1640</td>\n",
       "      <td>1644</td>\n",
       "      <td>0.250000</td>\n",
       "      <td>4</td>\n",
       "    </tr>\n",
       "    <tr>\n",
       "      <th>27828378</th>\n",
       "      <td>NW_017620066.1</td>\n",
       "      <td>1644</td>\n",
       "      <td>1647</td>\n",
       "      <td>0.200000</td>\n",
       "      <td>3</td>\n",
       "    </tr>\n",
       "    <tr>\n",
       "      <th>...</th>\n",
       "      <td>...</td>\n",
       "      <td>...</td>\n",
       "      <td>...</td>\n",
       "      <td>...</td>\n",
       "      <td>...</td>\n",
       "    </tr>\n",
       "    <tr>\n",
       "      <th>27835965</th>\n",
       "      <td>NW_017620066.1</td>\n",
       "      <td>1011914</td>\n",
       "      <td>1011953</td>\n",
       "      <td>0.500000</td>\n",
       "      <td>39</td>\n",
       "    </tr>\n",
       "    <tr>\n",
       "      <th>27835966</th>\n",
       "      <td>NW_017620066.1</td>\n",
       "      <td>1011953</td>\n",
       "      <td>1011978</td>\n",
       "      <td>0.333333</td>\n",
       "      <td>25</td>\n",
       "    </tr>\n",
       "    <tr>\n",
       "      <th>27835967</th>\n",
       "      <td>NW_017620066.1</td>\n",
       "      <td>1011978</td>\n",
       "      <td>1012014</td>\n",
       "      <td>1.000000</td>\n",
       "      <td>36</td>\n",
       "    </tr>\n",
       "    <tr>\n",
       "      <th>27835968</th>\n",
       "      <td>NW_017620066.1</td>\n",
       "      <td>1012014</td>\n",
       "      <td>1012142</td>\n",
       "      <td>0.500000</td>\n",
       "      <td>128</td>\n",
       "    </tr>\n",
       "    <tr>\n",
       "      <th>27835969</th>\n",
       "      <td>NW_017620066.1</td>\n",
       "      <td>1012142</td>\n",
       "      <td>1012239</td>\n",
       "      <td>1.000000</td>\n",
       "      <td>97</td>\n",
       "    </tr>\n",
       "  </tbody>\n",
       "</table>\n",
       "<p>7596 rows × 5 columns</p>\n",
       "</div>"
      ],
      "text/plain": [
       "                  contig    start     stop  mappability  length\n",
       "27828374  NW_017620066.1        0     1636     1.000000    1636\n",
       "27828375  NW_017620066.1     1636     1639     0.500000       3\n",
       "27828376  NW_017620066.1     1639     1640     0.333333       1\n",
       "27828377  NW_017620066.1     1640     1644     0.250000       4\n",
       "27828378  NW_017620066.1     1644     1647     0.200000       3\n",
       "...                  ...      ...      ...          ...     ...\n",
       "27835965  NW_017620066.1  1011914  1011953     0.500000      39\n",
       "27835966  NW_017620066.1  1011953  1011978     0.333333      25\n",
       "27835967  NW_017620066.1  1011978  1012014     1.000000      36\n",
       "27835968  NW_017620066.1  1012014  1012142     0.500000     128\n",
       "27835969  NW_017620066.1  1012142  1012239     1.000000      97\n",
       "\n",
       "[7596 rows x 5 columns]"
      ]
     },
     "execution_count": 18,
     "metadata": {},
     "output_type": "execute_result"
    }
   ],
   "source": [
    "bg.query('contig == \"NW_017620066.1\"')"
   ]
  },
  {
   "cell_type": "code",
   "execution_count": 19,
   "metadata": {},
   "outputs": [
    {
     "data": {
      "text/plain": [
       "True"
      ]
     },
     "execution_count": 19,
     "metadata": {},
     "output_type": "execute_result"
    }
   ],
   "source": [
    "\"NW_017620066.1\" in scaffolds_keep"
   ]
  },
  {
   "cell_type": "code",
   "execution_count": null,
   "metadata": {},
   "outputs": [],
   "source": []
  },
  {
   "cell_type": "code",
   "execution_count": 20,
   "metadata": {},
   "outputs": [],
   "source": [
    "keep_count = bg.query(\"contig in @scaffolds_keep\")\n"
   ]
  },
  {
   "cell_type": "code",
   "execution_count": 22,
   "metadata": {},
   "outputs": [
    {
     "data": {
      "text/plain": [
       "2385153156"
      ]
     },
     "execution_count": 22,
     "metadata": {},
     "output_type": "execute_result"
    }
   ],
   "source": [
    "keep_count['length'].sum()"
   ]
  },
  {
   "cell_type": "code",
   "execution_count": 26,
   "metadata": {},
   "outputs": [
    {
     "data": {
      "text/plain": [
       "186"
      ]
     },
     "execution_count": 26,
     "metadata": {},
     "output_type": "execute_result"
    }
   ],
   "source": [
    "autosomes_file = '/home/casia16/leopard/MeanSDGroup222Scaf_newRemapping.txt'\n",
    "autosomes = pd.read_csv(autosomes_file, sep = ' ')\n",
    "autosomes_keep = autosomes.query('MeanBasedGrouping == \"autosomes\"')['nameScaf'].tolist()\n",
    "len(autosomes_keep)"
   ]
  },
  {
   "cell_type": "code",
   "execution_count": 27,
   "metadata": {},
   "outputs": [
    {
     "data": {
      "text/plain": [
       "2249526414"
      ]
     },
     "execution_count": 27,
     "metadata": {},
     "output_type": "execute_result"
    }
   ],
   "source": [
    "keep_count_autosomes = bg.query(\"contig in @autosomes_keep\")\n",
    "\n",
    "keep_count_autosomes['length'].sum()"
   ]
  },
  {
   "cell_type": "code",
   "execution_count": 34,
   "metadata": {},
   "outputs": [],
   "source": [
    "keep_bg = bg.query(\"mappability == 1\").query(\"contig in @scaffolds_keep\")\n",
    "remove_bg = bg.query(\"mappability != 1\").query(\"contig in @scaffolds_keep\")"
   ]
  },
  {
   "cell_type": "code",
   "execution_count": 35,
   "metadata": {},
   "outputs": [
    {
     "data": {
      "text/html": [
       "<div>\n",
       "<style scoped>\n",
       "    .dataframe tbody tr th:only-of-type {\n",
       "        vertical-align: middle;\n",
       "    }\n",
       "\n",
       "    .dataframe tbody tr th {\n",
       "        vertical-align: top;\n",
       "    }\n",
       "\n",
       "    .dataframe thead th {\n",
       "        text-align: right;\n",
       "    }\n",
       "</style>\n",
       "<table border=\"1\" class=\"dataframe\">\n",
       "  <thead>\n",
       "    <tr style=\"text-align: right;\">\n",
       "      <th></th>\n",
       "      <th>contig</th>\n",
       "      <th>start</th>\n",
       "      <th>stop</th>\n",
       "      <th>mappability</th>\n",
       "      <th>length</th>\n",
       "    </tr>\n",
       "  </thead>\n",
       "  <tbody>\n",
       "    <tr>\n",
       "      <th>1</th>\n",
       "      <td>NW_017619845.1</td>\n",
       "      <td>16030</td>\n",
       "      <td>16031</td>\n",
       "      <td>0.500000</td>\n",
       "      <td>1</td>\n",
       "    </tr>\n",
       "    <tr>\n",
       "      <th>2</th>\n",
       "      <td>NW_017619845.1</td>\n",
       "      <td>16031</td>\n",
       "      <td>16033</td>\n",
       "      <td>0.200000</td>\n",
       "      <td>2</td>\n",
       "    </tr>\n",
       "    <tr>\n",
       "      <th>3</th>\n",
       "      <td>NW_017619845.1</td>\n",
       "      <td>16033</td>\n",
       "      <td>16034</td>\n",
       "      <td>0.166667</td>\n",
       "      <td>1</td>\n",
       "    </tr>\n",
       "    <tr>\n",
       "      <th>4</th>\n",
       "      <td>NW_017619845.1</td>\n",
       "      <td>16034</td>\n",
       "      <td>16035</td>\n",
       "      <td>0.111111</td>\n",
       "      <td>1</td>\n",
       "    </tr>\n",
       "    <tr>\n",
       "      <th>5</th>\n",
       "      <td>NW_017619845.1</td>\n",
       "      <td>16035</td>\n",
       "      <td>16036</td>\n",
       "      <td>0.052632</td>\n",
       "      <td>1</td>\n",
       "    </tr>\n",
       "    <tr>\n",
       "      <th>...</th>\n",
       "      <td>...</td>\n",
       "      <td>...</td>\n",
       "      <td>...</td>\n",
       "      <td>...</td>\n",
       "      <td>...</td>\n",
       "    </tr>\n",
       "    <tr>\n",
       "      <th>27835963</th>\n",
       "      <td>NW_017620066.1</td>\n",
       "      <td>1011873</td>\n",
       "      <td>1011901</td>\n",
       "      <td>0.500000</td>\n",
       "      <td>28</td>\n",
       "    </tr>\n",
       "    <tr>\n",
       "      <th>27835964</th>\n",
       "      <td>NW_017620066.1</td>\n",
       "      <td>1011901</td>\n",
       "      <td>1011914</td>\n",
       "      <td>0.333333</td>\n",
       "      <td>13</td>\n",
       "    </tr>\n",
       "    <tr>\n",
       "      <th>27835965</th>\n",
       "      <td>NW_017620066.1</td>\n",
       "      <td>1011914</td>\n",
       "      <td>1011953</td>\n",
       "      <td>0.500000</td>\n",
       "      <td>39</td>\n",
       "    </tr>\n",
       "    <tr>\n",
       "      <th>27835966</th>\n",
       "      <td>NW_017620066.1</td>\n",
       "      <td>1011953</td>\n",
       "      <td>1011978</td>\n",
       "      <td>0.333333</td>\n",
       "      <td>25</td>\n",
       "    </tr>\n",
       "    <tr>\n",
       "      <th>27835968</th>\n",
       "      <td>NW_017620066.1</td>\n",
       "      <td>1012014</td>\n",
       "      <td>1012142</td>\n",
       "      <td>0.500000</td>\n",
       "      <td>128</td>\n",
       "    </tr>\n",
       "  </tbody>\n",
       "</table>\n",
       "<p>26738884 rows × 5 columns</p>\n",
       "</div>"
      ],
      "text/plain": [
       "                  contig    start     stop  mappability  length\n",
       "1         NW_017619845.1    16030    16031     0.500000       1\n",
       "2         NW_017619845.1    16031    16033     0.200000       2\n",
       "3         NW_017619845.1    16033    16034     0.166667       1\n",
       "4         NW_017619845.1    16034    16035     0.111111       1\n",
       "5         NW_017619845.1    16035    16036     0.052632       1\n",
       "...                  ...      ...      ...          ...     ...\n",
       "27835963  NW_017620066.1  1011873  1011901     0.500000      28\n",
       "27835964  NW_017620066.1  1011901  1011914     0.333333      13\n",
       "27835965  NW_017620066.1  1011914  1011953     0.500000      39\n",
       "27835966  NW_017620066.1  1011953  1011978     0.333333      25\n",
       "27835968  NW_017620066.1  1012014  1012142     0.500000     128\n",
       "\n",
       "[26738884 rows x 5 columns]"
      ]
     },
     "execution_count": 35,
     "metadata": {},
     "output_type": "execute_result"
    }
   ],
   "source": [
    "remove_bg"
   ]
  },
  {
   "cell_type": "code",
   "execution_count": null,
   "metadata": {},
   "outputs": [],
   "source": []
  },
  {
   "cell_type": "code",
   "execution_count": 36,
   "metadata": {},
   "outputs": [
    {
     "data": {
      "text/plain": [
       "<matplotlib.axes._subplots.AxesSubplot at 0x7fe5dbf1c780>"
      ]
     },
     "execution_count": 36,
     "metadata": {},
     "output_type": "execute_result"
    },
    {
     "data": {
      "image/png": "[encoded data removed]",
      "text/plain": [
       "<Figure size 432x288 with 1 Axes>"
      ]
     },
     "metadata": {},
     "output_type": "display_data"
    }
   ],
   "source": [
    "# lots of snort mappably segments\n",
    "sns.distplot(keep_bg['length'], kde = False)"
   ]
  },
  {
   "cell_type": "code",
   "execution_count": 37,
   "metadata": {},
   "outputs": [
    {
     "data": {
      "text/plain": [
       "2214217472"
      ]
     },
     "execution_count": 37,
     "metadata": {},
     "output_type": "execute_result"
    }
   ],
   "source": [
    "keep_bg['length'].sum()"
   ]
  },
  {
   "cell_type": "code",
   "execution_count": 38,
   "metadata": {},
   "outputs": [
    {
     "data": {
      "text/plain": [
       "2266015424"
      ]
     },
     "execution_count": 38,
     "metadata": {},
     "output_type": "execute_result"
    }
   ],
   "source": [
    "bg.query(\"mappability == 1\")['length'].sum()"
   ]
  },
  {
   "cell_type": "code",
   "execution_count": 39,
   "metadata": {},
   "outputs": [
    {
     "data": {
      "text/html": [
       "<div>\n",
       "<style scoped>\n",
       "    .dataframe tbody tr th:only-of-type {\n",
       "        vertical-align: middle;\n",
       "    }\n",
       "\n",
       "    .dataframe tbody tr th {\n",
       "        vertical-align: top;\n",
       "    }\n",
       "\n",
       "    .dataframe thead th {\n",
       "        text-align: right;\n",
       "    }\n",
       "</style>\n",
       "<table border=\"1\" class=\"dataframe\">\n",
       "  <thead>\n",
       "    <tr style=\"text-align: right;\">\n",
       "      <th></th>\n",
       "      <th>contig</th>\n",
       "      <th>start</th>\n",
       "      <th>stop</th>\n",
       "      <th>mappability</th>\n",
       "      <th>length</th>\n",
       "    </tr>\n",
       "  </thead>\n",
       "  <tbody>\n",
       "    <tr>\n",
       "      <th>0</th>\n",
       "      <td>NW_017619845.1</td>\n",
       "      <td>0</td>\n",
       "      <td>16030</td>\n",
       "      <td>1.0</td>\n",
       "      <td>16030</td>\n",
       "    </tr>\n",
       "    <tr>\n",
       "      <th>121</th>\n",
       "      <td>NW_017619845.1</td>\n",
       "      <td>16189</td>\n",
       "      <td>16198</td>\n",
       "      <td>1.0</td>\n",
       "      <td>9</td>\n",
       "    </tr>\n",
       "    <tr>\n",
       "      <th>123</th>\n",
       "      <td>NW_017619845.1</td>\n",
       "      <td>16200</td>\n",
       "      <td>16283</td>\n",
       "      <td>1.0</td>\n",
       "      <td>83</td>\n",
       "    </tr>\n",
       "  </tbody>\n",
       "</table>\n",
       "</div>"
      ],
      "text/plain": [
       "             contig  start   stop  mappability  length\n",
       "0    NW_017619845.1      0  16030          1.0   16030\n",
       "121  NW_017619845.1  16189  16198          1.0       9\n",
       "123  NW_017619845.1  16200  16283          1.0      83"
      ]
     },
     "execution_count": 39,
     "metadata": {},
     "output_type": "execute_result"
    }
   ],
   "source": [
    "keep_bg.head(3)"
   ]
  },
  {
   "cell_type": "code",
   "execution_count": 40,
   "metadata": {},
   "outputs": [],
   "source": [
    "keep_bg.drop('length', axis = 1).to_csv('/home/ryan/leopard/GEM/mappability_K100_E2.map1_regions.bedgraph', \n",
    "                                        header = None, sep ='\\t', index = None)"
   ]
  },
  {
   "cell_type": "code",
   "execution_count": 41,
   "metadata": {},
   "outputs": [],
   "source": [
    "keep_bg.drop(['length', 'mappability'], axis = 1).to_csv('/home/ryan/leopard/GEM/mappability_K100_E2.map1_regions.bed', \n",
    "                                        header = None, sep ='\\t', index = None)"
   ]
  },
  {
   "cell_type": "code",
   "execution_count": 42,
   "metadata": {},
   "outputs": [],
   "source": [
    "remove_bg.drop(['length', 'mappability'], axis = 1).to_csv('/home/ryan/leopard/GEM/mappability_K100_E2.REMOVED_regions.bed', \n",
    "                                        header = None, sep ='\\t', index = None)"
   ]
  },
  {
   "cell_type": "code",
   "execution_count": null,
   "metadata": {},
   "outputs": [],
   "source": [
    "!head /home/ryan/leopard/GEM/mappability_K150_E2.map1_regions.bedgraph"
   ]
  },
  {
   "cell_type": "code",
   "execution_count": null,
   "metadata": {},
   "outputs": [],
   "source": [
    "!head /home/ryan/leopard/GEM/mappability_K150_E2.map1_regions.bed"
   ]
  },
  {
   "cell_type": "code",
   "execution_count": null,
   "metadata": {},
   "outputs": [],
   "source": [
    "!head /home/ryan/leopard/GEM/mappability_K150_E2.bedgraph"
   ]
  }
 ],
 "metadata": {
  "kernelspec": {
   "display_name": "Python 3",
   "language": "python",
   "name": "python3"
  },
  "language_info": {
   "codemirror_mode": {
    "name": "ipython",
    "version": 3
   },
   "file_extension": ".py",
   "mimetype": "text/x-python",
   "name": "python",
   "nbconvert_exporter": "python",
   "pygments_lexer": "ipython3",
   "version": "3.7.3"
  },
  "toc": {
   "base_numbering": 1,
   "nav_menu": {},
   "number_sections": true,
   "sideBar": true,
   "skip_h1_title": false,
   "title_cell": "Table of Contents",
   "title_sidebar": "Contents",
   "toc_cell": false,
   "toc_position": {},
   "toc_section_display": true,
   "toc_window_display": false
  }
 },
 "nbformat": 4,
 "nbformat_minor": 2
}
